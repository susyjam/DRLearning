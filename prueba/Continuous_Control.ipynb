{
 "cells": [
  {
   "cell_type": "markdown",
   "metadata": {},
   "source": [
    "# Continuous Control\n",
    "\n",
    "---\n",
    "\n",
    "You are welcome to use this coding environment to train your agent for the project.  Follow the instructions below to get started!\n",
    "\n",
    "### 1. Start the Environment\n",
    "\n",
    "Run the next code cell to install a few packages.  This line will take a few minutes to run!"
   ]
  },
  {
   "cell_type": "code",
   "execution_count": 1,
   "metadata": {},
   "outputs": [
    {
     "name": "stdout",
     "output_type": "stream",
     "text": [
      "\u001b[31mtensorflow 1.7.1 has requirement numpy>=1.13.3, but you'll have numpy 1.12.1 which is incompatible.\u001b[0m\r\n",
      "\u001b[31mipython 6.5.0 has requirement prompt-toolkit<2.0.0,>=1.0.15, but you'll have prompt-toolkit 3.0.5 which is incompatible.\u001b[0m\r\n"
     ]
    }
   ],
   "source": [
    "!pip -q install ./python"
   ]
  },
  {
   "cell_type": "code",
   "execution_count": 2,
   "metadata": {},
   "outputs": [
    {
     "name": "stderr",
     "output_type": "stream",
     "text": [
      "INFO:unityagents:\n",
      "'Academy' started successfully!\n",
      "Unity Academy name: Academy\n",
      "        Number of Brains: 1\n",
      "        Number of External Brains : 1\n",
      "        Lesson number : 0\n",
      "        Reset Parameters :\n",
      "\t\tgoal_speed -> 1.0\n",
      "\t\tgoal_size -> 5.0\n",
      "Unity brain name: ReacherBrain\n",
      "        Number of Visual Observations (per agent): 0\n",
      "        Vector Observation space type: continuous\n",
      "        Vector Observation space size (per agent): 33\n",
      "        Number of stacked Vector Observation: 1\n",
      "        Vector Action space type: continuous\n",
      "        Vector Action space size (per agent): 4\n",
      "        Vector Action descriptions: , , , \n"
     ]
    }
   ],
   "source": [
    "from unityagents import UnityEnvironment\n",
    "import numpy as np\n",
    "\n",
    "# select this option to load version 1 (with a single agent) of the environment\n",
    "#env = UnityEnvironment(file_name='/data/Reacher_One_Linux_NoVis/Reacher_One_Linux_NoVis.x86_64')\n",
    "\n",
    "# select this option to load version 2 (with 20 agents) of the environment\n",
    "env = UnityEnvironment(file_name='/data/Reacher_Linux_NoVis/Reacher.x86_64')"
   ]
  },
  {
   "cell_type": "markdown",
   "metadata": {},
   "source": [
    "The environments corresponding to both versions of the environment are already saved in the Workspace and can be accessed at the file paths provided below.  \n",
    "\n",
    "Please select one of the two options below for loading the environment."
   ]
  },
  {
   "cell_type": "markdown",
   "metadata": {},
   "source": [
    "Environments contain **_brains_** which are responsible for deciding the actions of their associated agents. Here we check for the first brain available, and set it as the default brain we will be controlling from Python."
   ]
  },
  {
   "cell_type": "code",
   "execution_count": 3,
   "metadata": {},
   "outputs": [],
   "source": [
    "# get the default brain\n",
    "brain_name = env.brain_names[0]\n",
    "brain = env.brains[brain_name]"
   ]
  },
  {
   "cell_type": "markdown",
   "metadata": {},
   "source": [
    "### 2. Examine the State and Action Spaces\n",
    "\n",
    "Run the code cell below to print some information about the environment."
   ]
  },
  {
   "cell_type": "code",
   "execution_count": 4,
   "metadata": {},
   "outputs": [
    {
     "name": "stdout",
     "output_type": "stream",
     "text": [
      "Number of agents: 20\n",
      "Size of each action: 4\n",
      "There are 20 agents. Each observes a state with length: 33\n",
      "The state for the first agent looks like: [  0.00000000e+00  -4.00000000e+00   0.00000000e+00   1.00000000e+00\n",
      "  -0.00000000e+00  -0.00000000e+00  -4.37113883e-08   0.00000000e+00\n",
      "   0.00000000e+00   0.00000000e+00   0.00000000e+00   0.00000000e+00\n",
      "   0.00000000e+00   0.00000000e+00  -1.00000000e+01   0.00000000e+00\n",
      "   1.00000000e+00  -0.00000000e+00  -0.00000000e+00  -4.37113883e-08\n",
      "   0.00000000e+00   0.00000000e+00   0.00000000e+00   0.00000000e+00\n",
      "   0.00000000e+00   0.00000000e+00   5.75471878e+00  -1.00000000e+00\n",
      "   5.55726624e+00   0.00000000e+00   1.00000000e+00   0.00000000e+00\n",
      "  -1.68164849e-01]\n"
     ]
    }
   ],
   "source": [
    "# reset the environment\n",
    "env_info = env.reset(train_mode=True)[brain_name]\n",
    "\n",
    "# number of agents\n",
    "num_agents = len(env_info.agents)\n",
    "print('Number of agents:', num_agents)\n",
    "\n",
    "# size of each action\n",
    "action_size = brain.vector_action_space_size\n",
    "print('Size of each action:', action_size)\n",
    "\n",
    "# examine the state space \n",
    "states = env_info.vector_observations\n",
    "state_size = states.shape[1]\n",
    "print('There are {} agents. Each observes a state with length: {}'.format(states.shape[0], state_size))\n",
    "print('The state for the first agent looks like:', states[0])"
   ]
  },
  {
   "cell_type": "markdown",
   "metadata": {},
   "source": [
    "### 3. Take Random Actions in the Environment\n",
    "\n",
    "In the next code cell, you will learn how to use the Python API to control the agent and receive feedback from the environment.\n",
    "\n",
    "Note that **in this coding environment, you will not be able to watch the agents while they are training**, and you should set `train_mode=True` to restart the environment."
   ]
  },
  {
   "cell_type": "code",
   "execution_count": 5,
   "metadata": {},
   "outputs": [
    {
     "name": "stdout",
     "output_type": "stream",
     "text": [
      "Total score (averaged over agents) this episode: 0.07399999834597111\n"
     ]
    }
   ],
   "source": [
    "env_info = env.reset(train_mode=True)[brain_name]      # reset the environment    \n",
    "states = env_info.vector_observations                  # get the current state (for each agent)\n",
    "scores = np.zeros(num_agents)                          # initialize the score (for each agent)\n",
    "while True:\n",
    "    actions = np.random.randn(num_agents, action_size) # select an action (for each agent)\n",
    "    actions = np.clip(actions, -1, 1)                  # all actions between -1 and 1\n",
    "    env_info = env.step(actions)[brain_name]           # send all actions to tne environment\n",
    "    next_states = env_info.vector_observations         # get next state (for each agent)\n",
    "    rewards = env_info.rewards                         # get reward (for each agent)\n",
    "    dones = env_info.local_done                        # see if episode finished\n",
    "    scores += env_info.rewards                         # update the score (for each agent)\n",
    "    states = next_states                               # roll over states to next time step\n",
    "    if np.any(dones):                                  # exit loop if episode finished\n",
    "        break\n",
    "print('Total score (averaged over agents) this episode: {}'.format(np.mean(scores)))"
   ]
  },
  {
   "cell_type": "markdown",
   "metadata": {},
   "source": [
    "When finished, you can close the environment."
   ]
  },
  {
   "cell_type": "code",
   "execution_count": 6,
   "metadata": {},
   "outputs": [],
   "source": [
    "env.close()"
   ]
  },
  {
   "cell_type": "code",
   "execution_count": 9,
   "metadata": {},
   "outputs": [
    {
     "name": "stdout",
     "output_type": "stream",
     "text": [
      "(20, 4)\n"
     ]
    }
   ],
   "source": [
    "print(actions.shape)"
   ]
  },
  {
   "cell_type": "code",
   "execution_count": 11,
   "metadata": {},
   "outputs": [
    {
     "name": "stdout",
     "output_type": "stream",
     "text": [
      "(20, 33)\n"
     ]
    }
   ],
   "source": [
    "print(next_states.shape)"
   ]
  },
  {
   "cell_type": "code",
   "execution_count": 12,
   "metadata": {},
   "outputs": [
    {
     "name": "stdout",
     "output_type": "stream",
     "text": [
      "20\n"
     ]
    }
   ],
   "source": [
    "print(len(rewards))"
   ]
  },
  {
   "cell_type": "markdown",
   "metadata": {},
   "source": [
    "### 4. It's Your Turn!\n",
    "\n",
    "Now it's your turn to train your own agent to solve the environment!  A few **important notes**:\n",
    "- When training the environment, set `train_mode=True`, so that the line for resetting the environment looks like the following:\n",
    "```python\n",
    "env_info = env.reset(train_mode=True)[brain_name]\n",
    "```\n",
    "- To structure your work, you're welcome to work directly in this Jupyter notebook, or you might like to start over with a new file!  You can see the list of files in the workspace by clicking on **_Jupyter_** in the top left corner of the notebook.\n",
    "- In this coding environment, you will not be able to watch the agents while they are training.  However, **_after training the agents_**, you can download the saved model weights to watch the agents on your own machine! "
   ]
  },
  {
   "cell_type": "code",
   "execution_count": 2,
   "metadata": {},
   "outputs": [
    {
     "name": "stdout",
     "output_type": "stream",
     "text": [
      "\u001b[31mtensorflow 1.7.1 has requirement numpy>=1.13.3, but you'll have numpy 1.12.1 which is incompatible.\u001b[0m\r\n",
      "\u001b[31mipython 6.5.0 has requirement prompt-toolkit<2.0.0,>=1.0.15, but you'll have prompt-toolkit 3.0.5 which is incompatible.\u001b[0m\r\n"
     ]
    }
   ],
   "source": [
    "!pip -q install ./python"
   ]
  },
  {
   "cell_type": "code",
   "execution_count": 3,
   "metadata": {},
   "outputs": [
    {
     "name": "stderr",
     "output_type": "stream",
     "text": [
      "INFO:unityagents:\n",
      "'Academy' started successfully!\n",
      "Unity Academy name: Academy\n",
      "        Number of Brains: 1\n",
      "        Number of External Brains : 1\n",
      "        Lesson number : 0\n",
      "        Reset Parameters :\n",
      "\t\tgoal_speed -> 1.0\n",
      "\t\tgoal_size -> 5.0\n",
      "Unity brain name: ReacherBrain\n",
      "        Number of Visual Observations (per agent): 0\n",
      "        Vector Observation space type: continuous\n",
      "        Vector Observation space size (per agent): 33\n",
      "        Number of stacked Vector Observation: 1\n",
      "        Vector Action space type: continuous\n",
      "        Vector Action space size (per agent): 4\n",
      "        Vector Action descriptions: , , , \n"
     ]
    }
   ],
   "source": [
    "from unityagents import UnityEnvironment\n",
    "import numpy as np\n",
    "\n",
    "# select this option to load version 1 (with a single agent) of the environment\n",
    "#env = UnityEnvironment(file_name='/data/Reacher_One_Linux_NoVis/Reacher_One_Linux_NoVis.x86_64')\n",
    "\n",
    "# select this option to load version 2 (with 20 agents) of the environment\n",
    "env = UnityEnvironment(file_name='/data/Reacher_Linux_NoVis/Reacher.x86_64')"
   ]
  },
  {
   "cell_type": "code",
   "execution_count": 4,
   "metadata": {},
   "outputs": [],
   "source": [
    "# get the default brain\n",
    "brain_name = env.brain_names[0]\n",
    "brain = env.brains[brain_name]"
   ]
  },
  {
   "cell_type": "code",
   "execution_count": 5,
   "metadata": {},
   "outputs": [
    {
     "name": "stdout",
     "output_type": "stream",
     "text": [
      "Number of agents: 20\n",
      "Size of each action: 4\n",
      "There are 20 agents. Each observes a state with length: 33\n",
      "The state for the first agent looks like: [  0.00000000e+00  -4.00000000e+00   0.00000000e+00   1.00000000e+00\n",
      "  -0.00000000e+00  -0.00000000e+00  -4.37113883e-08   0.00000000e+00\n",
      "   0.00000000e+00   0.00000000e+00   0.00000000e+00   0.00000000e+00\n",
      "   0.00000000e+00   0.00000000e+00  -1.00000000e+01   0.00000000e+00\n",
      "   1.00000000e+00  -0.00000000e+00  -0.00000000e+00  -4.37113883e-08\n",
      "   0.00000000e+00   0.00000000e+00   0.00000000e+00   0.00000000e+00\n",
      "   0.00000000e+00   0.00000000e+00   5.75471878e+00  -1.00000000e+00\n",
      "   5.55726624e+00   0.00000000e+00   1.00000000e+00   0.00000000e+00\n",
      "  -1.68164849e-01]\n"
     ]
    }
   ],
   "source": [
    "# reset the environment\n",
    "env_info = env.reset(train_mode=True)[brain_name]\n",
    "\n",
    "# number of agents\n",
    "num_agents = len(env_info.agents)\n",
    "print('Number of agents:', num_agents)\n",
    "\n",
    "# size of each action\n",
    "action_size = brain.vector_action_space_size\n",
    "print('Size of each action:', action_size)\n",
    "\n",
    "# examine the state space \n",
    "states = env_info.vector_observations\n",
    "state_size = states.shape[1]\n",
    "print('There are {} agents. Each observes a state with length: {}'.format(states.shape[0], state_size))\n",
    "print('The state for the first agent looks like:', states[0])"
   ]
  },
  {
   "cell_type": "markdown",
   "metadata": {},
   "source": [
    "### Import the necessary packages"
   ]
  },
  {
   "cell_type": "code",
   "execution_count": 6,
   "metadata": {},
   "outputs": [],
   "source": [
    "import gym\n",
    "import random\n",
    "import torch\n",
    "import numpy as np\n",
    "from collections import deque\n",
    "import matplotlib.pyplot as plt\n",
    "%matplotlib inline\n",
    "\n",
    "from ddpg_agent import Agent"
   ]
  },
  {
   "cell_type": "markdown",
   "metadata": {},
   "source": [
    "### Instantiate the Environment and Agent"
   ]
  },
  {
   "cell_type": "code",
   "execution_count": 8,
   "metadata": {},
   "outputs": [],
   "source": [
    "agent = Agent(state_size=state_size, action_size=action_size, random_seed=2)"
   ]
  },
  {
   "cell_type": "code",
   "execution_count": 16,
   "metadata": {},
   "outputs": [],
   "source": [
    "#env = gym.make('Pendulum-v0')\n",
    "#env.seed(2)\n",
    "#agent = Agent(state_size=3, action_size=1, random_seed=2)"
   ]
  },
  {
   "cell_type": "code",
   "execution_count": 9,
   "metadata": {},
   "outputs": [
    {
     "name": "stdout",
     "output_type": "stream",
     "text": [
      "Episode 1\tAverage Score: 0.56\n",
      "Episode 2\tAverage Score: 0.35\n",
      "Episode 3\tAverage Score: 0.48\n",
      "Episode 4\tAverage Score: 0.48\n",
      "Episode 5\tAverage Score: 0.54\n",
      "Episode 6\tAverage Score: 0.63\n",
      "Episode 7\tAverage Score: 0.69\n",
      "Episode 8\tAverage Score: 0.78\n",
      "Episode 9\tAverage Score: 0.82\n",
      "Episode 10\tAverage Score: 0.86\n",
      "Episode 11\tAverage Score: 0.89\n",
      "Episode 12\tAverage Score: 0.92\n",
      "Episode 13\tAverage Score: 0.97\n",
      "Episode 14\tAverage Score: 1.01\n",
      "Episode 15\tAverage Score: 1.05\n",
      "Episode 16\tAverage Score: 1.09\n",
      "Episode 17\tAverage Score: 1.13\n",
      "Episode 18\tAverage Score: 1.18\n",
      "Episode 19\tAverage Score: 1.25\n",
      "Episode 20\tAverage Score: 1.29\n",
      "Episode 21\tAverage Score: 1.35\n",
      "Episode 22\tAverage Score: 1.40\n",
      "Episode 23\tAverage Score: 1.45\n",
      "Episode 24\tAverage Score: 1.51\n",
      "Episode 25\tAverage Score: 1.56\n",
      "Episode 26\tAverage Score: 1.62\n",
      "Episode 27\tAverage Score: 1.68\n",
      "Episode 28\tAverage Score: 1.75\n",
      "Episode 29\tAverage Score: 1.80\n",
      "Episode 30\tAverage Score: 1.82\n",
      "Episode 31\tAverage Score: 1.86\n",
      "Episode 32\tAverage Score: 1.90\n",
      "Episode 33\tAverage Score: 1.95\n",
      "Episode 34\tAverage Score: 1.99\n",
      "Episode 35\tAverage Score: 2.02\n",
      "Episode 36\tAverage Score: 2.05\n",
      "Episode 37\tAverage Score: 2.08\n",
      "Episode 38\tAverage Score: 2.12\n",
      "Episode 39\tAverage Score: 2.15\n",
      "Episode 40\tAverage Score: 2.19\n",
      "Episode 41\tAverage Score: 2.22\n",
      "Episode 42\tAverage Score: 2.25\n",
      "Episode 43\tAverage Score: 2.31\n",
      "Episode 44\tAverage Score: 2.35\n",
      "Episode 45\tAverage Score: 2.38\n",
      "Episode 46\tAverage Score: 2.41\n",
      "Episode 47\tAverage Score: 2.44\n",
      "Episode 48\tAverage Score: 2.46\n",
      "Episode 49\tAverage Score: 2.49\n",
      "Episode 50\tAverage Score: 2.52\n",
      "Episode 51\tAverage Score: 2.55\n",
      "Episode 52\tAverage Score: 2.58\n",
      "Episode 53\tAverage Score: 2.60\n",
      "Episode 54\tAverage Score: 2.63\n",
      "Episode 55\tAverage Score: 2.66\n",
      "Episode 56\tAverage Score: 2.69\n",
      "Episode 57\tAverage Score: 2.71\n",
      "Episode 58\tAverage Score: 2.74\n",
      "Episode 59\tAverage Score: 2.77\n",
      "Episode 60\tAverage Score: 2.80\n",
      "Episode 61\tAverage Score: 2.83\n",
      "Episode 62\tAverage Score: 2.84\n",
      "Episode 63\tAverage Score: 2.87\n",
      "Episode 64\tAverage Score: 2.89\n",
      "Episode 65\tAverage Score: 2.91\n",
      "Episode 66\tAverage Score: 2.93\n",
      "Episode 67\tAverage Score: 2.96\n",
      "Episode 68\tAverage Score: 2.99\n",
      "Episode 69\tAverage Score: 3.02\n",
      "Episode 70\tAverage Score: 3.05\n",
      "Episode 71\tAverage Score: 3.08\n",
      "Episode 72\tAverage Score: 3.10\n",
      "Episode 73\tAverage Score: 3.13\n",
      "Episode 74\tAverage Score: 3.15\n",
      "Episode 75\tAverage Score: 3.17\n",
      "Episode 76\tAverage Score: 3.20\n",
      "Episode 77\tAverage Score: 3.23\n",
      "Episode 78\tAverage Score: 3.25\n",
      "Episode 79\tAverage Score: 3.27\n",
      "Episode 80\tAverage Score: 3.29\n",
      "Episode 81\tAverage Score: 3.30\n",
      "Episode 82\tAverage Score: 3.33\n",
      "Episode 83\tAverage Score: 3.35\n",
      "Episode 84\tAverage Score: 3.37\n",
      "Episode 85\tAverage Score: 3.39\n",
      "Episode 86\tAverage Score: 3.41\n",
      "Episode 87\tAverage Score: 3.42\n",
      "Episode 88\tAverage Score: 3.44\n",
      "Episode 89\tAverage Score: 3.46\n",
      "Episode 90\tAverage Score: 3.47\n",
      "Episode 91\tAverage Score: 3.48\n",
      "Episode 92\tAverage Score: 3.49\n",
      "Episode 93\tAverage Score: 3.50\n",
      "Episode 94\tAverage Score: 3.50\n",
      "Episode 95\tAverage Score: 3.51\n",
      "Episode 96\tAverage Score: 3.52\n",
      "Episode 97\tAverage Score: 3.53\n",
      "Episode 98\tAverage Score: 3.52\n",
      "Episode 99\tAverage Score: 3.52\n",
      "Episode 100\tAverage Score: 3.52\n"
     ]
    }
   ],
   "source": [
    "def ddpg(n_episodes=100, print_every=1): \n",
    "    \n",
    "    all_scores = []                    # list containing all scores from each episode\n",
    "    avg_scores_deque = []            # list containing avg all scores from each episode\n",
    "    noise_damp = 0                     # damping OU-Noise the closer it gets to global max\n",
    "    max_score = 0                      # save best score in that run\n",
    "    scores_deque = deque(maxlen=100)  # last 100 scores\n",
    "    #eps = eps_start                   # initialize epsilon\n",
    "    #env_unsolved = True\n",
    "    \n",
    "    for i_episode in range(1, n_episodes+1):\n",
    "        \n",
    "        env_info = env.reset(train_mode=True)[brain_name] # reset the environment\n",
    "        state = env_info.vector_observations              # get the current state\n",
    "        agent.reset()\n",
    "        score = np.zeros(num_agents)                      # initialize the score\n",
    "        while True:\n",
    "            action = agent.act(state, noise_damp)         # select an action\n",
    "            env_info = env.step(action)[brain_name]       # send the action to the environment\n",
    "            next_state = env_info.vector_observations     # get the next state\n",
    "            reward = env_info.rewards                     # get the reward\n",
    "            done = env_info.local_done                    # see if episode has finished\n",
    "            agent.step(state, action, reward, next_state, done, updates = 1)\n",
    "            state = next_state                            # roll over the state to next time step\n",
    "            score += reward                               # update the score\n",
    "            \n",
    "            if np.any(done):                              # exit loop if episode finished\n",
    "                break\n",
    "    \n",
    "        #print(\"\\rScore: {}\".format(score))\n",
    "        \n",
    "        avg_scores = np.mean(score)                           # agents' mean score\n",
    "        scores_deque.append(score)                           # save most 100 avg_scores recent score\n",
    "        all_scores.append(avg_scores)                         # save most recent score\n",
    "        avg_scores_deque.append(np.mean(scores_deque))\n",
    "        noise_damp = np.mean(scores_deque)\n",
    "        \n",
    "        #eps = max(eps_end, eps_decay*eps) # decrease epsilon\n",
    "        print('\\rEpisode {}\\tAverage Score: {:.2f}'.format(i_episode, np.mean(scores_deque)), end=\"\")\n",
    "        \n",
    "        # save agent if 10 perfomance is better, that max_score\n",
    "        if max_score < np.mean(scores_deque):\n",
    "            torch.save(agent.actor_local.state_dict(), 'checkpoint_actor.pth')\n",
    "            torch.save(agent.critic_local.state_dict(), 'checkpoint_critic.pth')\n",
    "            max_score = np.mean(scores_deque)\n",
    "        \n",
    "        if i_episode % print_every == 0:\n",
    "            print('\\rEpisode {}\\tAverage Score: {:.2f}'.format(i_episode, np.mean(scores_deque)))\n",
    "            \n",
    "        #break\n",
    "    return all_scores, avg_scores_deque\n",
    "\n",
    "all_scores, avg_scores_deque = ddpg()\n",
    "\n"
   ]
  },
  {
   "cell_type": "code",
   "execution_count": 10,
   "metadata": {},
   "outputs": [
    {
     "data": {
      "image/png": "[encoded data removed]",
      "text/plain": [
       "<matplotlib.figure.Figure at 0x7f3de00b3048>"
      ]
     },
     "metadata": {
      "needs_background": "light"
     },
     "output_type": "display_data"
    }
   ],
   "source": [
    "fig = plt.figure()\n",
    "ax = fig.add_subplot(111)\n",
    "plt.plot(np.arange(1, len(all_scores)+1), all_scores)\n",
    "plt.plot(np.arange(1, len(avg_scores_deque)+1), avg_scores_deque)\n",
    "plt.ylabel('Score')\n",
    "plt.xlabel('Episode #')\n",
    "plt.show()"
   ]
  }
 ],
 "metadata": {
  "kernelspec": {
   "display_name": "Python 3",
   "language": "python",
   "name": "python3"
  },
  "language_info": {
   "codemirror_mode": {
    "name": "ipython",
    "version": 3
   },
   "file_extension": ".py",
   "mimetype": "text/x-python",
   "name": "python",
   "nbconvert_exporter": "python",
   "pygments_lexer": "ipython3",
   "version": "3.6.3"
  }
 },
 "nbformat": 4,
 "nbformat_minor": 2
}
