{
 "cells": [
  {
   "cell_type": "markdown",
   "metadata": {},
   "source": [
    "# Continuous Control\n",
    "\n",
    "---\n",
    "\n",
    "You are welcome to use this coding environment to train your agent for the project.  Follow the instructions below to get started!\n",
    "\n",
    "### 1. Start the Environment\n",
    "\n",
    "Run the next code cell to install a few packages.  This line will take a few minutes to run!"
   ]
  },
  {
   "cell_type": "code",
   "execution_count": 1,
   "metadata": {},
   "outputs": [
    {
     "name": "stdout",
     "output_type": "stream",
     "text": [
      "\u001b[31mtensorflow 1.7.1 has requirement numpy>=1.13.3, but you'll have numpy 1.12.1 which is incompatible.\u001b[0m\r\n",
      "\u001b[31mipython 6.5.0 has requirement prompt-toolkit<2.0.0,>=1.0.15, but you'll have prompt-toolkit 3.0.5 which is incompatible.\u001b[0m\r\n"
     ]
    }
   ],
   "source": [
    "!pip -q install ./python"
   ]
  },
  {
   "cell_type": "code",
   "execution_count": 2,
   "metadata": {},
   "outputs": [
    {
     "name": "stderr",
     "output_type": "stream",
     "text": [
      "INFO:unityagents:\n",
      "'Academy' started successfully!\n",
      "Unity Academy name: Academy\n",
      "        Number of Brains: 1\n",
      "        Number of External Brains : 1\n",
      "        Lesson number : 0\n",
      "        Reset Parameters :\n",
      "\t\tgoal_speed -> 1.0\n",
      "\t\tgoal_size -> 5.0\n",
      "Unity brain name: ReacherBrain\n",
      "        Number of Visual Observations (per agent): 0\n",
      "        Vector Observation space type: continuous\n",
      "        Vector Observation space size (per agent): 33\n",
      "        Number of stacked Vector Observation: 1\n",
      "        Vector Action space type: continuous\n",
      "        Vector Action space size (per agent): 4\n",
      "        Vector Action descriptions: , , , \n"
     ]
    }
   ],
   "source": [
    "from unityagents import UnityEnvironment\n",
    "import numpy as np\n",
    "\n",
    "# select this option to load version 1 (with a single agent) of the environment\n",
    "#env = UnityEnvironment(file_name='/data/Reacher_One_Linux_NoVis/Reacher_One_Linux_NoVis.x86_64')\n",
    "\n",
    "# select this option to load version 2 (with 20 agents) of the environment\n",
    "env = UnityEnvironment(file_name='/data/Reacher_Linux_NoVis/Reacher.x86_64')"
   ]
  },
  {
   "cell_type": "markdown",
   "metadata": {},
   "source": [
    "The environments corresponding to both versions of the environment are already saved in the Workspace and can be accessed at the file paths provided below.  \n",
    "\n",
    "Please select one of the two options below for loading the environment."
   ]
  },
  {
   "cell_type": "markdown",
   "metadata": {},
   "source": [
    "Environments contain **_brains_** which are responsible for deciding the actions of their associated agents. Here we check for the first brain available, and set it as the default brain we will be controlling from Python."
   ]
  },
  {
   "cell_type": "code",
   "execution_count": 3,
   "metadata": {},
   "outputs": [],
   "source": [
    "# get the default brain\n",
    "brain_name = env.brain_names[0]\n",
    "brain = env.brains[brain_name]"
   ]
  },
  {
   "cell_type": "markdown",
   "metadata": {},
   "source": [
    "### 2. Examine the State and Action Spaces\n",
    "\n",
    "Run the code cell below to print some information about the environment."
   ]
  },
  {
   "cell_type": "code",
   "execution_count": 4,
   "metadata": {},
   "outputs": [
    {
     "name": "stdout",
     "output_type": "stream",
     "text": [
      "Number of agents: 20\n",
      "Size of each action: 4\n",
      "There are 20 agents. Each observes a state with length: 33\n",
      "The state for the first agent looks like: [  0.00000000e+00  -4.00000000e+00   0.00000000e+00   1.00000000e+00\n",
      "  -0.00000000e+00  -0.00000000e+00  -4.37113883e-08   0.00000000e+00\n",
      "   0.00000000e+00   0.00000000e+00   0.00000000e+00   0.00000000e+00\n",
      "   0.00000000e+00   0.00000000e+00  -1.00000000e+01   0.00000000e+00\n",
      "   1.00000000e+00  -0.00000000e+00  -0.00000000e+00  -4.37113883e-08\n",
      "   0.00000000e+00   0.00000000e+00   0.00000000e+00   0.00000000e+00\n",
      "   0.00000000e+00   0.00000000e+00   5.75471878e+00  -1.00000000e+00\n",
      "   5.55726624e+00   0.00000000e+00   1.00000000e+00   0.00000000e+00\n",
      "  -1.68164849e-01]\n"
     ]
    }
   ],
   "source": [
    "# reset the environment\n",
    "env_info = env.reset(train_mode=True)[brain_name]\n",
    "\n",
    "# number of agents\n",
    "num_agents = len(env_info.agents)\n",
    "print('Number of agents:', num_agents)\n",
    "\n",
    "# size of each action\n",
    "action_size = brain.vector_action_space_size\n",
    "print('Size of each action:', action_size)\n",
    "\n",
    "# examine the state space \n",
    "states = env_info.vector_observations\n",
    "state_size = states.shape[1]\n",
    "print('There are {} agents. Each observes a state with length: {}'.format(states.shape[0], state_size))\n",
    "print('The state for the first agent looks like:', states[0])"
   ]
  },
  {
   "cell_type": "markdown",
   "metadata": {},
   "source": [
    "### 3. Take Random Actions in the Environment\n",
    "\n",
    "In the next code cell, you will learn how to use the Python API to control the agent and receive feedback from the environment.\n",
    "\n",
    "Note that **in this coding environment, you will not be able to watch the agents while they are training**, and you should set `train_mode=True` to restart the environment."
   ]
  },
  {
   "cell_type": "code",
   "execution_count": 5,
   "metadata": {},
   "outputs": [
    {
     "name": "stdout",
     "output_type": "stream",
     "text": [
      "Total score (averaged over agents) this episode: 0.07399999834597111\n"
     ]
    }
   ],
   "source": [
    "env_info = env.reset(train_mode=True)[brain_name]      # reset the environment    \n",
    "states = env_info.vector_observations                  # get the current state (for each agent)\n",
    "scores = np.zeros(num_agents)                          # initialize the score (for each agent)\n",
    "while True:\n",
    "    actions = np.random.randn(num_agents, action_size) # select an action (for each agent)\n",
    "    actions = np.clip(actions, -1, 1)                  # all actions between -1 and 1\n",
    "    env_info = env.step(actions)[brain_name]           # send all actions to tne environment\n",
    "    next_states = env_info.vector_observations         # get next state (for each agent)\n",
    "    rewards = env_info.rewards                         # get reward (for each agent)\n",
    "    dones = env_info.local_done                        # see if episode finished\n",
    "    scores += env_info.rewards                         # update the score (for each agent)\n",
    "    states = next_states                               # roll over states to next time step\n",
    "    if np.any(dones):                                  # exit loop if episode finished\n",
    "        break\n",
    "print('Total score (averaged over agents) this episode: {}'.format(np.mean(scores)))"
   ]
  },
  {
   "cell_type": "markdown",
   "metadata": {},
   "source": [
    "When finished, you can close the environment."
   ]
  },
  {
   "cell_type": "code",
   "execution_count": 6,
   "metadata": {},
   "outputs": [],
   "source": [
    "env.close()"
   ]
  },
  {
   "cell_type": "code",
   "execution_count": 9,
   "metadata": {},
   "outputs": [
    {
     "name": "stdout",
     "output_type": "stream",
     "text": [
      "(20, 4)\n"
     ]
    }
   ],
   "source": [
    "print(actions.shape)"
   ]
  },
  {
   "cell_type": "code",
   "execution_count": 11,
   "metadata": {},
   "outputs": [
    {
     "name": "stdout",
     "output_type": "stream",
     "text": [
      "(20, 33)\n"
     ]
    }
   ],
   "source": [
    "print(next_states.shape)"
   ]
  },
  {
   "cell_type": "code",
   "execution_count": 12,
   "metadata": {},
   "outputs": [
    {
     "name": "stdout",
     "output_type": "stream",
     "text": [
      "20\n"
     ]
    }
   ],
   "source": [
    "print(len(rewards))"
   ]
  },
  {
   "cell_type": "markdown",
   "metadata": {},
   "source": [
    "### 4. It's Your Turn!\n",
    "\n",
    "Now it's your turn to train your own agent to solve the environment!  A few **important notes**:\n",
    "- When training the environment, set `train_mode=True`, so that the line for resetting the environment looks like the following:\n",
    "```python\n",
    "env_info = env.reset(train_mode=True)[brain_name]\n",
    "```\n",
    "- To structure your work, you're welcome to work directly in this Jupyter notebook, or you might like to start over with a new file!  You can see the list of files in the workspace by clicking on **_Jupyter_** in the top left corner of the notebook.\n",
    "- In this coding environment, you will not be able to watch the agents while they are training.  However, **_after training the agents_**, you can download the saved model weights to watch the agents on your own machine! "
   ]
  },
  {
   "cell_type": "code",
   "execution_count": 1,
   "metadata": {},
   "outputs": [
    {
     "name": "stdout",
     "output_type": "stream",
     "text": [
      "\u001b[31mtensorflow 1.7.1 has requirement numpy>=1.13.3, but you'll have numpy 1.12.1 which is incompatible.\u001b[0m\r\n",
      "\u001b[31mipython 6.5.0 has requirement prompt-toolkit<2.0.0,>=1.0.15, but you'll have prompt-toolkit 3.0.5 which is incompatible.\u001b[0m\r\n"
     ]
    }
   ],
   "source": [
    "!pip -q install ./python"
   ]
  },
  {
   "cell_type": "code",
   "execution_count": 2,
   "metadata": {},
   "outputs": [
    {
     "name": "stderr",
     "output_type": "stream",
     "text": [
      "INFO:unityagents:\n",
      "'Academy' started successfully!\n",
      "Unity Academy name: Academy\n",
      "        Number of Brains: 1\n",
      "        Number of External Brains : 1\n",
      "        Lesson number : 0\n",
      "        Reset Parameters :\n",
      "\t\tgoal_speed -> 1.0\n",
      "\t\tgoal_size -> 5.0\n",
      "Unity brain name: ReacherBrain\n",
      "        Number of Visual Observations (per agent): 0\n",
      "        Vector Observation space type: continuous\n",
      "        Vector Observation space size (per agent): 33\n",
      "        Number of stacked Vector Observation: 1\n",
      "        Vector Action space type: continuous\n",
      "        Vector Action space size (per agent): 4\n",
      "        Vector Action descriptions: , , , \n"
     ]
    }
   ],
   "source": [
    "from unityagents import UnityEnvironment\n",
    "import numpy as np\n",
    "\n",
    "# select this option to load version 1 (with a single agent) of the environment\n",
    "#env = UnityEnvironment(file_name='/data/Reacher_One_Linux_NoVis/Reacher_One_Linux_NoVis.x86_64')\n",
    "\n",
    "# select this option to load version 2 (with 20 agents) of the environment\n",
    "env = UnityEnvironment(file_name='/data/Reacher_Linux_NoVis/Reacher.x86_64')"
   ]
  },
  {
   "cell_type": "code",
   "execution_count": 3,
   "metadata": {},
   "outputs": [],
   "source": [
    "# get the default brain\n",
    "brain_name = env.brain_names[0]\n",
    "brain = env.brains[brain_name]"
   ]
  },
  {
   "cell_type": "code",
   "execution_count": 4,
   "metadata": {},
   "outputs": [
    {
     "name": "stdout",
     "output_type": "stream",
     "text": [
      "Number of agents: 20\n",
      "Size of each action: 4\n",
      "There are 20 agents. Each observes a state with length: 33\n",
      "The state for the first agent looks like: [  0.00000000e+00  -4.00000000e+00   0.00000000e+00   1.00000000e+00\n",
      "  -0.00000000e+00  -0.00000000e+00  -4.37113883e-08   0.00000000e+00\n",
      "   0.00000000e+00   0.00000000e+00   0.00000000e+00   0.00000000e+00\n",
      "   0.00000000e+00   0.00000000e+00  -1.00000000e+01   0.00000000e+00\n",
      "   1.00000000e+00  -0.00000000e+00  -0.00000000e+00  -4.37113883e-08\n",
      "   0.00000000e+00   0.00000000e+00   0.00000000e+00   0.00000000e+00\n",
      "   0.00000000e+00   0.00000000e+00   5.75471878e+00  -1.00000000e+00\n",
      "   5.55726624e+00   0.00000000e+00   1.00000000e+00   0.00000000e+00\n",
      "  -1.68164849e-01]\n"
     ]
    }
   ],
   "source": [
    "# reset the environment\n",
    "env_info = env.reset(train_mode=True)[brain_name]\n",
    "\n",
    "# number of agents\n",
    "num_agents = len(env_info.agents)\n",
    "print('Number of agents:', num_agents)\n",
    "\n",
    "# size of each action\n",
    "action_size = brain.vector_action_space_size\n",
    "print('Size of each action:', action_size)\n",
    "\n",
    "# examine the state space \n",
    "states = env_info.vector_observations\n",
    "state_size = states.shape[1]\n",
    "print('There are {} agents. Each observes a state with length: {}'.format(states.shape[0], state_size))\n",
    "print('The state for the first agent looks like:', states[0])"
   ]
  },
  {
   "cell_type": "markdown",
   "metadata": {},
   "source": [
    "### Import the necessary packages"
   ]
  },
  {
   "cell_type": "code",
   "execution_count": 5,
   "metadata": {},
   "outputs": [],
   "source": [
    "import gym\n",
    "import random\n",
    "import torch\n",
    "import numpy as np\n",
    "from collections import deque\n",
    "import matplotlib.pyplot as plt\n",
    "%matplotlib inline\n",
    "\n",
    "from ddpg_agent import Agent"
   ]
  },
  {
   "cell_type": "markdown",
   "metadata": {},
   "source": [
    "### Instantiate the Environment and Agent"
   ]
  },
  {
   "cell_type": "code",
   "execution_count": 6,
   "metadata": {},
   "outputs": [],
   "source": [
    "agent = Agent(state_size=state_size, action_size=action_size, random_seed=42)"
   ]
  },
  {
   "cell_type": "code",
   "execution_count": 16,
   "metadata": {},
   "outputs": [],
   "source": [
    "#env = gym.make('Pendulum-v0')\n",
    "#env.seed(2)\n",
    "#agent = Agent(state_size=3, action_size=1, random_seed=2)"
   ]
  },
  {
   "cell_type": "code",
   "execution_count": 8,
   "metadata": {},
   "outputs": [
    {
     "name": "stdout",
     "output_type": "stream",
     "text": [
      "Episode 10\tAverage Score: 0.15\n",
      "Episode 20\tAverage Score: 0.30\n",
      "Episode 30\tAverage Score: 0.20\n",
      "Episode 40\tAverage Score: 0.15\n",
      "Episode 50\tAverage Score: 0.13\n",
      "Episode 60\tAverage Score: 0.11\n",
      "Episode 70\tAverage Score: 0.09\n",
      "Episode 80\tAverage Score: 0.08\n",
      "Episode 90\tAverage Score: 0.09\n",
      "Episode 100\tAverage Score: 0.12\n",
      "Episode 110\tAverage Score: 0.10\n",
      "Episode 120\tAverage Score: 0.06\n",
      "Episode 130\tAverage Score: 0.06\n",
      "Episode 140\tAverage Score: 0.11\n",
      "Episode 150\tAverage Score: 0.17\n",
      "Episode 160\tAverage Score: 0.23\n",
      "Episode 170\tAverage Score: 0.28\n",
      "Episode 180\tAverage Score: 0.34\n",
      "Episode 190\tAverage Score: 0.37\n",
      "Episode 200\tAverage Score: 0.38\n",
      "Episode 210\tAverage Score: 0.44\n",
      "Episode 220\tAverage Score: 0.49\n",
      "Episode 230\tAverage Score: 0.53\n",
      "Episode 240\tAverage Score: 0.54\n",
      "Episode 250\tAverage Score: 0.53\n",
      "Episode 260\tAverage Score: 0.51\n",
      "Episode 270\tAverage Score: 0.51\n",
      "Episode 280\tAverage Score: 0.50\n",
      "Episode 290\tAverage Score: 0.50\n",
      "Episode 300\tAverage Score: 0.50\n",
      "Episode 310\tAverage Score: 0.49\n",
      "Episode 320\tAverage Score: 0.49\n",
      "Episode 330\tAverage Score: 0.49\n",
      "Episode 340\tAverage Score: 0.49\n",
      "Episode 350\tAverage Score: 0.48\n",
      "Episode 360\tAverage Score: 0.49\n",
      "Episode 370\tAverage Score: 0.49\n",
      "Episode 380\tAverage Score: 0.49\n",
      "Episode 390\tAverage Score: 0.49\n",
      "Episode 400\tAverage Score: 0.50\n",
      "Episode 410\tAverage Score: 0.50\n",
      "Episode 420\tAverage Score: 0.49\n",
      "Episode 430\tAverage Score: 0.49\n",
      "Episode 440\tAverage Score: 0.49\n",
      "Episode 450\tAverage Score: 0.48\n",
      "Episode 460\tAverage Score: 0.48\n",
      "Episode 470\tAverage Score: 0.48\n",
      "Episode 480\tAverage Score: 0.47\n",
      "Episode 490\tAverage Score: 0.47\n",
      "Episode 500\tAverage Score: 0.47\n",
      "Episode 510\tAverage Score: 0.48\n",
      "Episode 520\tAverage Score: 0.48\n",
      "Episode 530\tAverage Score: 0.49\n",
      "Episode 540\tAverage Score: 0.49\n",
      "Episode 550\tAverage Score: 0.49\n",
      "Episode 560\tAverage Score: 0.50\n",
      "Episode 570\tAverage Score: 0.50\n",
      "Episode 580\tAverage Score: 0.50\n",
      "Episode 590\tAverage Score: 0.50\n",
      "Episode 600\tAverage Score: 0.50\n",
      "Episode 610\tAverage Score: 0.50\n",
      "Episode 620\tAverage Score: 0.50\n",
      "Episode 630\tAverage Score: 0.51\n",
      "Episode 640\tAverage Score: 0.54\n",
      "Episode 650\tAverage Score: 0.54\n",
      "Episode 660\tAverage Score: 0.55\n",
      "Episode 670\tAverage Score: 0.55\n",
      "Episode 680\tAverage Score: 0.57\n",
      "Episode 690\tAverage Score: 0.58\n",
      "Episode 700\tAverage Score: 0.59\n",
      "Episode 710\tAverage Score: 0.59\n",
      "Episode 720\tAverage Score: 0.60\n",
      "Episode 730\tAverage Score: 0.58\n",
      "Episode 740\tAverage Score: 0.57\n",
      "Episode 750\tAverage Score: 0.58\n",
      "Episode 760\tAverage Score: 0.58\n",
      "Episode 770\tAverage Score: 0.59\n",
      "Episode 780\tAverage Score: 0.58\n",
      "Episode 790\tAverage Score: 0.58\n",
      "Episode 800\tAverage Score: 0.58\n",
      "Episode 810\tAverage Score: 0.58\n",
      "Episode 820\tAverage Score: 0.60\n",
      "Episode 830\tAverage Score: 0.60\n",
      "Episode 840\tAverage Score: 0.60\n",
      "Episode 850\tAverage Score: 0.59\n",
      "Episode 860\tAverage Score: 0.59\n",
      "Episode 870\tAverage Score: 0.59\n",
      "Episode 880\tAverage Score: 0.59\n",
      "Episode 890\tAverage Score: 0.59\n",
      "Episode 900\tAverage Score: 0.59\n",
      "Episode 910\tAverage Score: 0.60\n",
      "Episode 920\tAverage Score: 0.60\n",
      "Episode 930\tAverage Score: 0.59\n",
      "Episode 940\tAverage Score: 0.60\n",
      "Episode 950\tAverage Score: 0.60\n",
      "Episode 960\tAverage Score: 0.61\n",
      "Episode 970\tAverage Score: 0.61\n",
      "Episode 980\tAverage Score: 0.61\n",
      "Episode 990\tAverage Score: 0.60\n",
      "Episode 1000\tAverage Score: 0.60\n",
      "Episode 1010\tAverage Score: 0.60\n",
      "Episode 1020\tAverage Score: 0.60\n",
      "Episode 1030\tAverage Score: 0.60\n",
      "Episode 1040\tAverage Score: 0.59\n",
      "Episode 1050\tAverage Score: 0.59\n",
      "Episode 1060\tAverage Score: 0.59\n",
      "Episode 1070\tAverage Score: 0.59\n",
      "Episode 1080\tAverage Score: 0.59\n",
      "Episode 1090\tAverage Score: 0.59\n",
      "Episode 1100\tAverage Score: 0.60\n",
      "Episode 1110\tAverage Score: 0.59\n",
      "Episode 1120\tAverage Score: 0.60\n",
      "Episode 1130\tAverage Score: 0.60\n",
      "Episode 1140\tAverage Score: 0.61\n",
      "Episode 1150\tAverage Score: 0.61\n",
      "Episode 1160\tAverage Score: 0.62\n",
      "Episode 1170\tAverage Score: 0.61\n",
      "Episode 1180\tAverage Score: 0.61\n",
      "Episode 1190\tAverage Score: 0.61\n",
      "Episode 1200\tAverage Score: 0.59\n",
      "Episode 1210\tAverage Score: 0.58\n",
      "Episode 1220\tAverage Score: 0.57\n",
      "Episode 1230\tAverage Score: 0.56\n",
      "Episode 1240\tAverage Score: 0.54\n",
      "Episode 1250\tAverage Score: 0.55\n",
      "Episode 1260\tAverage Score: 0.55\n",
      "Episode 1270\tAverage Score: 0.55\n",
      "Episode 1280\tAverage Score: 0.55\n",
      "Episode 1290\tAverage Score: 0.56\n",
      "Episode 1300\tAverage Score: 0.57\n",
      "Episode 1310\tAverage Score: 0.58\n",
      "Episode 1320\tAverage Score: 0.59\n",
      "Episode 1330\tAverage Score: 0.61\n",
      "Episode 1340\tAverage Score: 0.62\n",
      "Episode 1350\tAverage Score: 0.63\n",
      "Episode 1360\tAverage Score: 0.63\n",
      "Episode 1370\tAverage Score: 0.63\n",
      "Episode 1380\tAverage Score: 0.63\n",
      "Episode 1390\tAverage Score: 0.64\n",
      "Episode 1400\tAverage Score: 0.63\n",
      "Episode 1410\tAverage Score: 0.64\n",
      "Episode 1420\tAverage Score: 0.64\n",
      "Episode 1430\tAverage Score: 0.63\n",
      "Episode 1440\tAverage Score: 0.64\n",
      "Episode 1450\tAverage Score: 0.61\n",
      "Episode 1460\tAverage Score: 0.61\n",
      "Episode 1470\tAverage Score: 0.61\n",
      "Episode 1480\tAverage Score: 0.62\n",
      "Episode 1490\tAverage Score: 0.61\n",
      "Episode 1500\tAverage Score: 0.61\n"
     ]
    }
   ],
   "source": [
    "def ddpg(n_episodes=1500, print_every=10): \n",
    "    \n",
    "    all_scores = []                    # list containing all scores from each episode\n",
    "    avg_scores_deque = []            # list containing avg all scores from each episode\n",
    "    noise_damp = 0                     # damping OU-Noise the closer it gets to global max\n",
    "    max_score = 0                      # save best score in that run\n",
    "    scores_deque = deque(maxlen=100)  # last 100 scores\n",
    "    #eps = eps_start                   # initialize epsilon\n",
    "    #env_unsolved = True\n",
    "    \n",
    "    for i_episode in range(1, n_episodes+1):\n",
    "        \n",
    "        env_info = env.reset(train_mode=True)[brain_name] # reset the environment\n",
    "        state = env_info.vector_observations              # get the current state\n",
    "        agent.reset()\n",
    "        score = np.zeros(num_agents)                      # initialize the score\n",
    "        while True:\n",
    "            action = agent.act(state, noise_damp)         # select an action\n",
    "            env_info = env.step(action)[brain_name]       # send the action to the environment\n",
    "            next_state = env_info.vector_observations     # get the next state\n",
    "            reward = env_info.rewards                     # get the reward\n",
    "            done = env_info.local_done                    # see if episode has finished\n",
    "            agent.step(state, action, reward, next_state, done, updates = 1)\n",
    "            state = next_state                            # roll over the state to next time step\n",
    "            score += reward                               # update the score\n",
    "            \n",
    "            if np.any(done):                              # exit loop if episode finished\n",
    "                break\n",
    "    \n",
    "        #print(\"\\rScore: {}\".format(score))\n",
    "        \n",
    "        avg_scores = np.mean(score)                           # agents' mean score\n",
    "        scores_deque.append(score)                           # save most 100 avg_scores recent score\n",
    "        all_scores.append(avg_scores)                         # save most recent score\n",
    "        avg_scores_deque.append(np.mean(scores_deque))\n",
    "        noise_damp = np.mean(scores_deque)\n",
    "        \n",
    "        #eps = max(eps_end, eps_decay*eps) # decrease epsilon\n",
    "        print('\\rEpisode {}\\tAverage Score: {:.2f}'.format(i_episode, np.mean(scores_deque)), end=\"\")\n",
    "        \n",
    "        # save agent if 10 perfomance is better, that max_score\n",
    "        if max_score < np.mean(scores_deque):\n",
    "            torch.save(agent.actor_local.state_dict(), 'checkpoint_actor.pth')\n",
    "            torch.save(agent.critic_local.state_dict(), 'checkpoint_critic.pth')\n",
    "            max_score = np.mean(scores_deque)\n",
    "        \n",
    "        if i_episode % print_every == 0:\n",
    "            print('\\rEpisode {}\\tAverage Score: {:.2f}'.format(i_episode, np.mean(scores_deque)))\n",
    "            \n",
    "        #break\n",
    "    return all_scores, avg_scores_deque\n",
    "\n",
    "all_scores, avg_scores_deque = ddpg()\n",
    "\n"
   ]
  },
  {
   "cell_type": "code",
   "execution_count": 10,
   "metadata": {},
   "outputs": [
    {
     "data": {
      "image/png": "[encoded data removed]",
      "text/plain": [
       "<matplotlib.figure.Figure at 0x7fd198741080>"
      ]
     },
     "metadata": {
      "needs_background": "light"
     },
     "output_type": "display_data"
    }
   ],
   "source": [
    "fig = plt.figure()\n",
    "ax = fig.add_subplot(111)\n",
    "plt.plot(np.arange(1, len(all_scores)+1), all_scores)\n",
    "plt.plot(np.arange(1, len(avg_scores_deque)+1), avg_scores_deque)\n",
    "plt.ylabel('Score')\n",
    "plt.xlabel('Episode #')\n",
    "plt.show()"
   ]
  }
 ],
 "metadata": {
  "kernelspec": {
   "display_name": "Python 3",
   "language": "python",
   "name": "python3"
  },
  "language_info": {
   "codemirror_mode": {
    "name": "ipython",
    "version": 3
   },
   "file_extension": ".py",
   "mimetype": "text/x-python",
   "name": "python",
   "nbconvert_exporter": "python",
   "pygments_lexer": "ipython3",
   "version": "3.6.3"
  }
 },
 "nbformat": 4,
 "nbformat_minor": 2
}
