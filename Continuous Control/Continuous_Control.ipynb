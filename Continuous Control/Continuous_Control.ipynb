{
 "cells": [
  {
   "cell_type": "markdown",
   "metadata": {},
   "source": [
    "# Continuous Control\n",
    "\n",
    "---\n",
    "\n",
    "You are welcome to use this coding environment to train your agent for the project.  Follow the instructions below to get started!\n",
    "\n",
    "### 1. Start the Environment\n",
    "\n",
    "Run the next code cell to install a few packages.  This line will take a few minutes to run!"
   ]
  },
  {
   "cell_type": "code",
   "execution_count": 1,
   "metadata": {},
   "outputs": [
    {
     "name": "stdout",
     "output_type": "stream",
     "text": [
      "\u001b[31mtensorflow 1.7.1 has requirement numpy>=1.13.3, but you'll have numpy 1.12.1 which is incompatible.\u001b[0m\r\n",
      "\u001b[31mipython 6.5.0 has requirement prompt-toolkit<2.0.0,>=1.0.15, but you'll have prompt-toolkit 3.0.5 which is incompatible.\u001b[0m\r\n"
     ]
    }
   ],
   "source": [
    "!pip -q install ./python"
   ]
  },
  {
   "cell_type": "code",
   "execution_count": 2,
   "metadata": {},
   "outputs": [
    {
     "name": "stderr",
     "output_type": "stream",
     "text": [
      "INFO:unityagents:\n",
      "'Academy' started successfully!\n",
      "Unity Academy name: Academy\n",
      "        Number of Brains: 1\n",
      "        Number of External Brains : 1\n",
      "        Lesson number : 0\n",
      "        Reset Parameters :\n",
      "\t\tgoal_speed -> 1.0\n",
      "\t\tgoal_size -> 5.0\n",
      "Unity brain name: ReacherBrain\n",
      "        Number of Visual Observations (per agent): 0\n",
      "        Vector Observation space type: continuous\n",
      "        Vector Observation space size (per agent): 33\n",
      "        Number of stacked Vector Observation: 1\n",
      "        Vector Action space type: continuous\n",
      "        Vector Action space size (per agent): 4\n",
      "        Vector Action descriptions: , , , \n"
     ]
    }
   ],
   "source": [
    "from unityagents import UnityEnvironment\n",
    "import numpy as np\n",
    "\n",
    "# select this option to load version 1 (with a single agent) of the environment\n",
    "#env = UnityEnvironment(file_name='/data/Reacher_One_Linux_NoVis/Reacher_One_Linux_NoVis.x86_64')\n",
    "\n",
    "# select this option to load version 2 (with 20 agents) of the environment\n",
    "env = UnityEnvironment(file_name='/data/Reacher_Linux_NoVis/Reacher.x86_64')"
   ]
  },
  {
   "cell_type": "markdown",
   "metadata": {},
   "source": [
    "The environments corresponding to both versions of the environment are already saved in the Workspace and can be accessed at the file paths provided below.  \n",
    "\n",
    "Please select one of the two options below for loading the environment."
   ]
  },
  {
   "cell_type": "markdown",
   "metadata": {},
   "source": [
    "Environments contain **_brains_** which are responsible for deciding the actions of their associated agents. Here we check for the first brain available, and set it as the default brain we will be controlling from Python."
   ]
  },
  {
   "cell_type": "code",
   "execution_count": 3,
   "metadata": {},
   "outputs": [],
   "source": [
    "# get the default brain\n",
    "brain_name = env.brain_names[0]\n",
    "brain = env.brains[brain_name]"
   ]
  },
  {
   "cell_type": "markdown",
   "metadata": {},
   "source": [
    "### 2. Examine the State and Action Spaces\n",
    "\n",
    "Run the code cell below to print some information about the environment."
   ]
  },
  {
   "cell_type": "code",
   "execution_count": 4,
   "metadata": {},
   "outputs": [
    {
     "name": "stdout",
     "output_type": "stream",
     "text": [
      "Number of agents: 20\n",
      "Size of each action: 4\n",
      "There are 20 agents. Each observes a state with length: 33\n",
      "The state for the first agent looks like: [  0.00000000e+00  -4.00000000e+00   0.00000000e+00   1.00000000e+00\n",
      "  -0.00000000e+00  -0.00000000e+00  -4.37113883e-08   0.00000000e+00\n",
      "   0.00000000e+00   0.00000000e+00   0.00000000e+00   0.00000000e+00\n",
      "   0.00000000e+00   0.00000000e+00  -1.00000000e+01   0.00000000e+00\n",
      "   1.00000000e+00  -0.00000000e+00  -0.00000000e+00  -4.37113883e-08\n",
      "   0.00000000e+00   0.00000000e+00   0.00000000e+00   0.00000000e+00\n",
      "   0.00000000e+00   0.00000000e+00   5.75471878e+00  -1.00000000e+00\n",
      "   5.55726624e+00   0.00000000e+00   1.00000000e+00   0.00000000e+00\n",
      "  -1.68164849e-01]\n"
     ]
    }
   ],
   "source": [
    "# reset the environment\n",
    "env_info = env.reset(train_mode=True)[brain_name]\n",
    "\n",
    "# number of agents\n",
    "num_agents = len(env_info.agents)\n",
    "print('Number of agents:', num_agents)\n",
    "\n",
    "# size of each action\n",
    "action_size = brain.vector_action_space_size\n",
    "print('Size of each action:', action_size)\n",
    "\n",
    "# examine the state space \n",
    "states = env_info.vector_observations\n",
    "state_size = states.shape[1]\n",
    "print('There are {} agents. Each observes a state with length: {}'.format(states.shape[0], state_size))\n",
    "print('The state for the first agent looks like:', states[0])"
   ]
  },
  {
   "cell_type": "markdown",
   "metadata": {},
   "source": [
    "### 3. Take Random Actions in the Environment\n",
    "\n",
    "In the next code cell, you will learn how to use the Python API to control the agent and receive feedback from the environment.\n",
    "\n",
    "Note that **in this coding environment, you will not be able to watch the agents while they are training**, and you should set `train_mode=True` to restart the environment."
   ]
  },
  {
   "cell_type": "code",
   "execution_count": 5,
   "metadata": {},
   "outputs": [
    {
     "name": "stdout",
     "output_type": "stream",
     "text": [
      "Total score (averaged over agents) this episode: 0.07399999834597111\n"
     ]
    }
   ],
   "source": [
    "env_info = env.reset(train_mode=True)[brain_name]      # reset the environment    \n",
    "states = env_info.vector_observations                  # get the current state (for each agent)\n",
    "scores = np.zeros(num_agents)                          # initialize the score (for each agent)\n",
    "while True:\n",
    "    actions = np.random.randn(num_agents, action_size) # select an action (for each agent)\n",
    "    actions = np.clip(actions, -1, 1)                  # all actions between -1 and 1\n",
    "    env_info = env.step(actions)[brain_name]           # send all actions to tne environment\n",
    "    next_states = env_info.vector_observations         # get next state (for each agent)\n",
    "    rewards = env_info.rewards                         # get reward (for each agent)\n",
    "    dones = env_info.local_done                        # see if episode finished\n",
    "    scores += env_info.rewards                         # update the score (for each agent)\n",
    "    states = next_states                               # roll over states to next time step\n",
    "    if np.any(dones):                                  # exit loop if episode finished\n",
    "        break\n",
    "print('Total score (averaged over agents) this episode: {}'.format(np.mean(scores)))"
   ]
  },
  {
   "cell_type": "markdown",
   "metadata": {},
   "source": [
    "When finished, you can close the environment."
   ]
  },
  {
   "cell_type": "code",
   "execution_count": 6,
   "metadata": {},
   "outputs": [],
   "source": [
    "env.close()"
   ]
  },
  {
   "cell_type": "code",
   "execution_count": 9,
   "metadata": {},
   "outputs": [
    {
     "name": "stdout",
     "output_type": "stream",
     "text": [
      "(20, 4)\n"
     ]
    }
   ],
   "source": [
    "print(actions.shape)"
   ]
  },
  {
   "cell_type": "code",
   "execution_count": 11,
   "metadata": {},
   "outputs": [
    {
     "name": "stdout",
     "output_type": "stream",
     "text": [
      "(20, 33)\n"
     ]
    }
   ],
   "source": [
    "print(next_states.shape)"
   ]
  },
  {
   "cell_type": "code",
   "execution_count": 12,
   "metadata": {},
   "outputs": [
    {
     "name": "stdout",
     "output_type": "stream",
     "text": [
      "20\n"
     ]
    }
   ],
   "source": [
    "print(len(rewards))"
   ]
  },
  {
   "cell_type": "markdown",
   "metadata": {},
   "source": [
    "### 4. It's Your Turn!\n",
    "\n",
    "Now it's your turn to train your own agent to solve the environment!  A few **important notes**:\n",
    "- When training the environment, set `train_mode=True`, so that the line for resetting the environment looks like the following:\n",
    "```python\n",
    "env_info = env.reset(train_mode=True)[brain_name]\n",
    "```\n",
    "- To structure your work, you're welcome to work directly in this Jupyter notebook, or you might like to start over with a new file!  You can see the list of files in the workspace by clicking on **_Jupyter_** in the top left corner of the notebook.\n",
    "- In this coding environment, you will not be able to watch the agents while they are training.  However, **_after training the agents_**, you can download the saved model weights to watch the agents on your own machine! "
   ]
  },
  {
   "cell_type": "code",
   "execution_count": 1,
   "metadata": {},
   "outputs": [
    {
     "name": "stdout",
     "output_type": "stream",
     "text": [
      "\u001b[31mtensorflow 1.7.1 has requirement numpy>=1.13.3, but you'll have numpy 1.12.1 which is incompatible.\u001b[0m\r\n",
      "\u001b[31mipython 6.5.0 has requirement prompt-toolkit<2.0.0,>=1.0.15, but you'll have prompt-toolkit 3.0.5 which is incompatible.\u001b[0m\r\n"
     ]
    }
   ],
   "source": [
    "!pip -q install ./python"
   ]
  },
  {
   "cell_type": "code",
   "execution_count": 2,
   "metadata": {},
   "outputs": [
    {
     "name": "stderr",
     "output_type": "stream",
     "text": [
      "INFO:unityagents:\n",
      "'Academy' started successfully!\n",
      "Unity Academy name: Academy\n",
      "        Number of Brains: 1\n",
      "        Number of External Brains : 1\n",
      "        Lesson number : 0\n",
      "        Reset Parameters :\n",
      "\t\tgoal_size -> 5.0\n",
      "\t\tgoal_speed -> 1.0\n",
      "Unity brain name: ReacherBrain\n",
      "        Number of Visual Observations (per agent): 0\n",
      "        Vector Observation space type: continuous\n",
      "        Vector Observation space size (per agent): 33\n",
      "        Number of stacked Vector Observation: 1\n",
      "        Vector Action space type: continuous\n",
      "        Vector Action space size (per agent): 4\n",
      "        Vector Action descriptions: , , , \n"
     ]
    }
   ],
   "source": [
    "from unityagents import UnityEnvironment\n",
    "import numpy as np\n",
    "\n",
    "# select this option to load version 1 (with a single agent) of the environment\n",
    "#env = UnityEnvironment(file_name='/data/Reacher_One_Linux_NoVis/Reacher_One_Linux_NoVis.x86_64')\n",
    "\n",
    "# select this option to load version 2 (with 20 agents) of the environment\n",
    "env = UnityEnvironment(file_name='/data/Reacher_Linux_NoVis/Reacher.x86_64')"
   ]
  },
  {
   "cell_type": "code",
   "execution_count": 3,
   "metadata": {},
   "outputs": [],
   "source": [
    "# get the default brain\n",
    "brain_name = env.brain_names[0]\n",
    "brain = env.brains[brain_name]"
   ]
  },
  {
   "cell_type": "code",
   "execution_count": 4,
   "metadata": {},
   "outputs": [
    {
     "name": "stdout",
     "output_type": "stream",
     "text": [
      "Number of agents: 20\n",
      "Size of each action: 4\n",
      "There are 20 agents. Each observes a state with length: 33\n",
      "The state for the first agent looks like: [  0.00000000e+00  -4.00000000e+00   0.00000000e+00   1.00000000e+00\n",
      "  -0.00000000e+00  -0.00000000e+00  -4.37113883e-08   0.00000000e+00\n",
      "   0.00000000e+00   0.00000000e+00   0.00000000e+00   0.00000000e+00\n",
      "   0.00000000e+00   0.00000000e+00  -1.00000000e+01   0.00000000e+00\n",
      "   1.00000000e+00  -0.00000000e+00  -0.00000000e+00  -4.37113883e-08\n",
      "   0.00000000e+00   0.00000000e+00   0.00000000e+00   0.00000000e+00\n",
      "   0.00000000e+00   0.00000000e+00   5.75471878e+00  -1.00000000e+00\n",
      "   5.55726624e+00   0.00000000e+00   1.00000000e+00   0.00000000e+00\n",
      "  -1.68164849e-01]\n"
     ]
    }
   ],
   "source": [
    "# reset the environment\n",
    "env_info = env.reset(train_mode=True)[brain_name]\n",
    "\n",
    "# number of agents\n",
    "num_agents = len(env_info.agents)\n",
    "print('Number of agents:', num_agents)\n",
    "\n",
    "# size of each action\n",
    "action_size = brain.vector_action_space_size\n",
    "print('Size of each action:', action_size)\n",
    "\n",
    "# examine the state space \n",
    "states = env_info.vector_observations\n",
    "state_size = states.shape[1]\n",
    "print('There are {} agents. Each observes a state with length: {}'.format(states.shape[0], state_size))\n",
    "print('The state for the first agent looks like:', states[0])"
   ]
  },
  {
   "cell_type": "markdown",
   "metadata": {},
   "source": [
    "### Import the necessary packages"
   ]
  },
  {
   "cell_type": "code",
   "execution_count": 6,
   "metadata": {},
   "outputs": [],
   "source": [
    "%reload_ext autoreload\n",
    "%autoreload 2\n",
    "import gym\n",
    "import random\n",
    "import torch\n",
    "import numpy as np\n",
    "from collections import deque\n",
    "import matplotlib.pyplot as plt\n",
    "%matplotlib inline\n",
    "\n",
    "from ddpg_agent import Agent"
   ]
  },
  {
   "cell_type": "markdown",
   "metadata": {},
   "source": [
    "### Instantiate the Environment and Agent"
   ]
  },
  {
   "cell_type": "code",
   "execution_count": 7,
   "metadata": {},
   "outputs": [],
   "source": [
    "train_mode = True\n",
    "agent = Agent(state_size=state_size, action_size=action_size, random_seed=39)"
   ]
  },
  {
   "cell_type": "code",
   "execution_count": 16,
   "metadata": {},
   "outputs": [],
   "source": [
    "#env = gym.make('Pendulum-v0')\n",
    "#env.seed(2)\n",
    "#agent = Agent(state_size=3, action_size=1, random_seed=2)"
   ]
  },
  {
   "cell_type": "code",
   "execution_count": 8,
   "metadata": {},
   "outputs": [
    {
     "name": "stdout",
     "output_type": "stream",
     "text": [
      "Episode 1\tT Average Score: 0.33\t Mean Score: 0.333\n",
      "Episode 2\tT Average Score: 0.61\t Mean Score: 0.892\n",
      "Episode 3\tT Average Score: 0.66\t Mean Score: 0.744\n",
      "Episode 4\tT Average Score: 0.68\t Mean Score: 0.751\n",
      "Episode 5\tT Average Score: 0.67\t Mean Score: 0.613\n",
      "Episode 6\tT Average Score: 0.69\t Mean Score: 0.790\n",
      "Episode 7\tT Average Score: 0.71\t Mean Score: 0.847\n",
      "Episode 8\tT Average Score: 0.74\t Mean Score: 0.966\n",
      "Episode 9\tT Average Score: 0.79\t Mean Score: 1.167\n",
      "Episode 10\tT Average Score: 0.83\t Mean Score: 1.160\n",
      "Episode 11\tT Average Score: 0.89\t Mean Score: 1.541\n",
      "Episode 12\tT Average Score: 0.97\t Mean Score: 1.798\n",
      "Episode 13\tT Average Score: 1.01\t Mean Score: 1.510\n",
      "Episode 14\tT Average Score: 1.07\t Mean Score: 1.848\n",
      "Episode 15\tT Average Score: 1.13\t Mean Score: 2.055\n",
      "Episode 16\tT Average Score: 1.21\t Mean Score: 2.376\n",
      "Episode 17\tT Average Score: 1.31\t Mean Score: 2.800\n",
      "Episode 18\tT Average Score: 1.39\t Mean Score: 2.828\n",
      "Episode 19\tT Average Score: 1.49\t Mean Score: 3.271\n",
      "Episode 20\tT Average Score: 1.57\t Mean Score: 3.088\n",
      "Episode 21\tT Average Score: 1.67\t Mean Score: 3.676\n",
      "Episode 22\tT Average Score: 1.75\t Mean Score: 3.538\n",
      "Episode 23\tT Average Score: 1.87\t Mean Score: 4.423\n",
      "Episode 24\tT Average Score: 1.95\t Mean Score: 3.670\n",
      "Episode 25\tT Average Score: 2.03\t Mean Score: 4.084\n",
      "Episode 26\tT Average Score: 2.14\t Mean Score: 4.757\n",
      "Episode 27\tT Average Score: 2.25\t Mean Score: 5.324\n",
      "Episode 28\tT Average Score: 2.42\t Mean Score: 6.889\n",
      "Episode 29\tT Average Score: 2.53\t Mean Score: 5.511\n",
      "Episode 30\tT Average Score: 2.60\t Mean Score: 4.665\n",
      "Episode 31\tT Average Score: 2.70\t Mean Score: 5.763\n",
      "Episode 32\tT Average Score: 2.84\t Mean Score: 7.087\n",
      "Episode 33\tT Average Score: 2.97\t Mean Score: 7.110\n",
      "Episode 34\tT Average Score: 3.08\t Mean Score: 6.787\n",
      "Episode 35\tT Average Score: 3.21\t Mean Score: 7.560\n",
      "Episode 36\tT Average Score: 3.29\t Mean Score: 6.135\n",
      "Episode 37\tT Average Score: 3.38\t Mean Score: 6.694\n",
      "Episode 38\tT Average Score: 3.47\t Mean Score: 6.770\n",
      "Episode 39\tT Average Score: 3.55\t Mean Score: 6.720\n",
      "Episode 40\tT Average Score: 3.63\t Mean Score: 6.608\n",
      "Episode 41\tT Average Score: 3.70\t Mean Score: 6.597\n",
      "Episode 42\tT Average Score: 3.78\t Mean Score: 6.957\n",
      "Episode 43\tT Average Score: 3.87\t Mean Score: 7.878\n",
      "Episode 44\tT Average Score: 3.95\t Mean Score: 7.223\n",
      "Episode 45\tT Average Score: 4.05\t Mean Score: 8.249\n",
      "Episode 46\tT Average Score: 4.15\t Mean Score: 8.916\n",
      "Episode 47\tT Average Score: 4.29\t Mean Score: 10.810\n",
      "Episode 48\tT Average Score: 4.41\t Mean Score: 9.860\n",
      "Episode 49\tT Average Score: 4.52\t Mean Score: 9.967\n",
      "Episode 50\tT Average Score: 4.64\t Mean Score: 10.554\n",
      "Episode 51\tT Average Score: 4.75\t Mean Score: 9.937\n",
      "Episode 52\tT Average Score: 4.84\t Mean Score: 9.616\n",
      "Episode 53\tT Average Score: 4.93\t Mean Score: 9.765\n",
      "Episode 54\tT Average Score: 5.06\t Mean Score: 11.680\n",
      "Episode 55\tT Average Score: 5.16\t Mean Score: 10.838\n",
      "Episode 56\tT Average Score: 5.27\t Mean Score: 11.356\n",
      "Episode 57\tT Average Score: 5.37\t Mean Score: 10.867\n",
      "Episode 58\tT Average Score: 5.49\t Mean Score: 12.239\n",
      "Episode 59\tT Average Score: 5.61\t Mean Score: 12.461\n",
      "Episode 60\tT Average Score: 5.72\t Mean Score: 12.362\n",
      "Episode 61\tT Average Score: 5.83\t Mean Score: 12.541\n",
      "Episode 62\tT Average Score: 5.96\t Mean Score: 13.766\n",
      "Episode 63\tT Average Score: 6.08\t Mean Score: 13.558\n",
      "Episode 64\tT Average Score: 6.20\t Mean Score: 13.949\n",
      "Episode 65\tT Average Score: 6.34\t Mean Score: 14.820\n",
      "Episode 66\tT Average Score: 6.47\t Mean Score: 14.877\n",
      "Episode 67\tT Average Score: 6.59\t Mean Score: 14.641\n",
      "Episode 68\tT Average Score: 6.73\t Mean Score: 16.448\n",
      "Episode 69\tT Average Score: 6.91\t Mean Score: 19.229\n",
      "Episode 70\tT Average Score: 7.04\t Mean Score: 15.331\n",
      "Episode 71\tT Average Score: 7.22\t Mean Score: 20.064\n",
      "Episode 72\tT Average Score: 7.37\t Mean Score: 18.138\n",
      "Episode 73\tT Average Score: 7.51\t Mean Score: 17.569\n",
      "Episode 74\tT Average Score: 7.65\t Mean Score: 17.562\n",
      "Episode 75\tT Average Score: 7.80\t Mean Score: 19.192\n",
      "Episode 76\tT Average Score: 7.96\t Mean Score: 20.185\n",
      "Episode 77\tT Average Score: 8.09\t Mean Score: 17.489\n",
      "Episode 78\tT Average Score: 8.20\t Mean Score: 17.123\n",
      "Episode 79\tT Average Score: 8.32\t Mean Score: 17.181\n",
      "Episode 80\tT Average Score: 8.41\t Mean Score: 15.939\n",
      "Episode 81\tT Average Score: 8.55\t Mean Score: 19.784\n",
      "Episode 82\tT Average Score: 8.65\t Mean Score: 16.917\n",
      "Episode 83\tT Average Score: 8.79\t Mean Score: 19.812\n",
      "Episode 84\tT Average Score: 8.91\t Mean Score: 19.049\n",
      "Episode 85\tT Average Score: 9.06\t Mean Score: 22.026\n",
      "Episode 86\tT Average Score: 9.20\t Mean Score: 20.923\n",
      "Episode 87\tT Average Score: 9.37\t Mean Score: 23.635\n",
      "Episode 88\tT Average Score: 9.52\t Mean Score: 23.110\n",
      "Episode 89\tT Average Score: 9.69\t Mean Score: 23.886\n",
      "Episode 90\tT Average Score: 9.87\t Mean Score: 26.173\n",
      "Episode 91\tT Average Score: 10.08\t Mean Score: 29.249\n",
      "Episode 92\tT Average Score: 10.28\t Mean Score: 28.410\n",
      "Episode 93\tT Average Score: 10.47\t Mean Score: 28.048\n",
      "Episode 94\tT Average Score: 10.64\t Mean Score: 26.629\n",
      "Episode 95\tT Average Score: 10.82\t Mean Score: 27.480\n",
      "Episode 96\tT Average Score: 11.01\t Mean Score: 28.715\n",
      "Episode 97\tT Average Score: 11.17\t Mean Score: 27.212\n",
      "Episode 98\tT Average Score: 11.32\t Mean Score: 25.598\n",
      "Episode 99\tT Average Score: 11.53\t Mean Score: 31.616\n",
      "Episode 100\tT Average Score: 11.74\t Mean Score: 32.537\n",
      "Episode 101\tT Average Score: 12.07\t Mean Score: 33.905\n",
      "Episode 102\tT Average Score: 12.37\t Mean Score: 30.464\n",
      "Episode 103\tT Average Score: 12.69\t Mean Score: 33.134\n",
      "Episode 104\tT Average Score: 13.02\t Mean Score: 33.567\n",
      "Episode 105\tT Average Score: 13.30\t Mean Score: 28.454\n",
      "Episode 106\tT Average Score: 13.59\t Mean Score: 29.665\n",
      "Episode 107\tT Average Score: 13.90\t Mean Score: 31.568\n",
      "Episode 108\tT Average Score: 14.19\t Mean Score: 30.087\n",
      "Episode 109\tT Average Score: 14.48\t Mean Score: 30.607\n",
      "Episode 110\tT Average Score: 14.78\t Mean Score: 30.923\n",
      "Episode 111\tT Average Score: 15.03\t Mean Score: 26.849\n",
      "Episode 112\tT Average Score: 15.27\t Mean Score: 25.550\n",
      "Episode 113\tT Average Score: 15.49\t Mean Score: 23.378\n",
      "Episode 114\tT Average Score: 15.67\t Mean Score: 19.860\n",
      "Episode 115\tT Average Score: 15.89\t Mean Score: 24.569\n",
      "Episode 116\tT Average Score: 16.12\t Mean Score: 25.564\n",
      "Episode 117\tT Average Score: 16.34\t Mean Score: 24.633\n",
      "Episode 118\tT Average Score: 16.58\t Mean Score: 26.220\n",
      "Episode 119\tT Average Score: 16.77\t Mean Score: 22.650\n",
      "Episode 120\tT Average Score: 16.98\t Mean Score: 23.618\n",
      "Episode 121\tT Average Score: 17.16\t Mean Score: 22.070\n",
      "Episode 122\tT Average Score: 17.34\t Mean Score: 22.024\n",
      "Episode 123\tT Average Score: 17.52\t Mean Score: 21.780\n",
      "Episode 124\tT Average Score: 17.70\t Mean Score: 21.927\n",
      "Episode 125\tT Average Score: 17.92\t Mean Score: 25.860\n",
      "Episode 126\tT Average Score: 18.14\t Mean Score: 26.452\n",
      "Episode 127\tT Average Score: 18.35\t Mean Score: 26.503\n",
      "Episode 128\tT Average Score: 18.55\t Mean Score: 27.177\n",
      "Episode 129\tT Average Score: 18.77\t Mean Score: 27.309\n",
      "Episode 130\tT Average Score: 19.00\t Mean Score: 28.035\n",
      "Episode 131\tT Average Score: 19.22\t Mean Score: 27.655\n",
      "Episode 132\tT Average Score: 19.44\t Mean Score: 28.534\n",
      "Episode 133\tT Average Score: 19.64\t Mean Score: 27.232\n",
      "Episode 134\tT Average Score: 19.84\t Mean Score: 26.653\n",
      "Episode 135\tT Average Score: 19.99\t Mean Score: 22.893\n",
      "Episode 136\tT Average Score: 20.17\t Mean Score: 24.516\n",
      "Episode 137\tT Average Score: 20.39\t Mean Score: 28.134\n",
      "Episode 138\tT Average Score: 20.58\t Mean Score: 26.446\n",
      "Episode 139\tT Average Score: 20.76\t Mean Score: 24.581\n",
      "Episode 140\tT Average Score: 20.95\t Mean Score: 24.961\n",
      "Episode 141\tT Average Score: 21.07\t Mean Score: 19.183\n",
      "Episode 142\tT Average Score: 21.18\t Mean Score: 17.727\n",
      "Episode 143\tT Average Score: 21.29\t Mean Score: 19.416\n",
      "Episode 144\tT Average Score: 21.39\t Mean Score: 16.620\n",
      "Episode 145\tT Average Score: 21.52\t Mean Score: 21.594\n",
      "Episode 146\tT Average Score: 21.66\t Mean Score: 22.635\n",
      "Episode 147\tT Average Score: 21.71\t Mean Score: 15.736\n",
      "Episode 148\tT Average Score: 21.77\t Mean Score: 16.471\n",
      "Episode 149\tT Average Score: 21.86\t Mean Score: 18.493\n",
      "Episode 150\tT Average Score: 21.96\t Mean Score: 20.222\n",
      "Episode 151\tT Average Score: 22.08\t Mean Score: 22.306\n",
      "Episode 152\tT Average Score: 22.20\t Mean Score: 21.096\n",
      "Episode 153\tT Average Score: 22.32\t Mean Score: 21.821\n",
      "Episode 154\tT Average Score: 22.44\t Mean Score: 23.975\n"
     ]
    },
    {
     "name": "stdout",
     "output_type": "stream",
     "text": [
      "Episode 155\tT Average Score: 22.55\t Mean Score: 22.378\n",
      "Episode 156\tT Average Score: 22.64\t Mean Score: 19.989\n",
      "Episode 157\tT Average Score: 22.73\t Mean Score: 19.602\n",
      "Episode 158\tT Average Score: 22.80\t Mean Score: 19.932\n",
      "Episode 159\tT Average Score: 22.86\t Mean Score: 17.919\n",
      "Episode 160\tT Average Score: 22.95\t Mean Score: 21.066\n",
      "Episode 161\tT Average Score: 23.01\t Mean Score: 18.978\n",
      "Episode 162\tT Average Score: 23.09\t Mean Score: 21.431\n",
      "Episode 163\tT Average Score: 23.17\t Mean Score: 21.857\n",
      "Episode 164\tT Average Score: 23.25\t Mean Score: 22.416\n",
      "Episode 165\tT Average Score: 23.33\t Mean Score: 22.470\n",
      "Episode 166\tT Average Score: 23.39\t Mean Score: 20.483\n",
      "Episode 167\tT Average Score: 23.44\t Mean Score: 19.461\n",
      "Episode 168\tT Average Score: 23.47\t Mean Score: 19.402\n",
      "Episode 169\tT Average Score: 23.45\t Mean Score: 17.380\n",
      "Episode 170\tT Average Score: 23.48\t Mean Score: 18.930\n",
      "Episode 171\tT Average Score: 23.46\t Mean Score: 17.537\n",
      "Episode 172\tT Average Score: 23.46\t Mean Score: 18.318\n",
      "Episode 173\tT Average Score: 23.44\t Mean Score: 15.784\n",
      "Episode 174\tT Average Score: 23.46\t Mean Score: 19.668\n",
      "Episode 175\tT Average Score: 23.47\t Mean Score: 20.300\n",
      "Episode 176\tT Average Score: 23.45\t Mean Score: 17.375\n",
      "Episode 177\tT Average Score: 23.47\t Mean Score: 19.582\n",
      "Episode 178\tT Average Score: 23.50\t Mean Score: 20.604\n",
      "Episode 179\tT Average Score: 23.55\t Mean Score: 21.754\n",
      "Episode 180\tT Average Score: 23.61\t Mean Score: 22.188\n",
      "Episode 181\tT Average Score: 23.61\t Mean Score: 19.991\n",
      "Episode 182\tT Average Score: 23.66\t Mean Score: 22.198\n",
      "Episode 183\tT Average Score: 23.71\t Mean Score: 24.136\n",
      "Episode 184\tT Average Score: 23.77\t Mean Score: 25.002\n",
      "Episode 185\tT Average Score: 23.77\t Mean Score: 22.239\n",
      "Episode 186\tT Average Score: 23.85\t Mean Score: 28.718\n",
      "Episode 187\tT Average Score: 23.87\t Mean Score: 25.670\n",
      "Episode 188\tT Average Score: 23.89\t Mean Score: 25.493\n",
      "Episode 189\tT Average Score: 23.91\t Mean Score: 25.852\n",
      "Episode 190\tT Average Score: 23.94\t Mean Score: 28.730\n",
      "Episode 191\tT Average Score: 23.92\t Mean Score: 27.904\n",
      "Episode 192\tT Average Score: 23.93\t Mean Score: 28.781\n",
      "Episode 193\tT Average Score: 23.88\t Mean Score: 23.509\n",
      "Episode 194\tT Average Score: 23.84\t Mean Score: 22.945\n",
      "Episode 195\tT Average Score: 23.80\t Mean Score: 22.811\n",
      "Episode 196\tT Average Score: 23.76\t Mean Score: 25.299\n",
      "Episode 197\tT Average Score: 23.73\t Mean Score: 24.275\n",
      "Episode 198\tT Average Score: 23.73\t Mean Score: 25.089\n",
      "Episode 199\tT Average Score: 23.67\t Mean Score: 25.976\n",
      "Episode 200\tT Average Score: 23.59\t Mean Score: 24.230\n",
      "Episode 201\tT Average Score: 23.53\t Mean Score: 27.587\n",
      "Episode 202\tT Average Score: 23.50\t Mean Score: 28.254\n",
      "Episode 203\tT Average Score: 23.45\t Mean Score: 27.227\n",
      "Episode 204\tT Average Score: 23.36\t Mean Score: 25.184\n",
      "Episode 205\tT Average Score: 23.31\t Mean Score: 22.948\n",
      "Episode 206\tT Average Score: 23.28\t Mean Score: 26.901\n",
      "Episode 207\tT Average Score: 23.23\t Mean Score: 26.267\n",
      "Episode 208\tT Average Score: 23.19\t Mean Score: 26.046\n",
      "Episode 209\tT Average Score: 23.09\t Mean Score: 21.405\n",
      "Episode 210\tT Average Score: 23.04\t Mean Score: 25.593\n",
      "Episode 211\tT Average Score: 22.98\t Mean Score: 21.267\n",
      "Episode 212\tT Average Score: 22.95\t Mean Score: 21.660\n",
      "Episode 213\tT Average Score: 22.98\t Mean Score: 26.922\n",
      "Episode 214\tT Average Score: 23.03\t Mean Score: 24.919\n",
      "Episode 215\tT Average Score: 23.06\t Mean Score: 27.751\n",
      "Episode 216\tT Average Score: 23.07\t Mean Score: 26.093\n",
      "Episode 217\tT Average Score: 23.09\t Mean Score: 26.935\n",
      "Episode 218\tT Average Score: 23.10\t Mean Score: 27.532\n",
      "Episode 219\tT Average Score: 23.15\t Mean Score: 27.431\n",
      "Episode 220\tT Average Score: 23.20\t Mean Score: 28.855\n",
      "Episode 221\tT Average Score: 23.26\t Mean Score: 27.744\n",
      "Episode 222\tT Average Score: 23.34\t Mean Score: 29.575\n",
      "Episode 223\tT Average Score: 23.43\t Mean Score: 31.190\n",
      "Episode 224\tT Average Score: 23.53\t Mean Score: 31.358\n",
      "Episode 225\tT Average Score: 23.58\t Mean Score: 31.021\n",
      "Episode 226\tT Average Score: 23.63\t Mean Score: 32.012\n",
      "Episode 227\tT Average Score: 23.69\t Mean Score: 32.114\n",
      "Episode 228\tT Average Score: 23.72\t Mean Score: 30.392\n",
      "Episode 229\tT Average Score: 23.76\t Mean Score: 31.078\n",
      "Episode 230\tT Average Score: 23.79\t Mean Score: 31.274\n",
      "Episode 231\tT Average Score: 23.81\t Mean Score: 29.943\n",
      "Episode 232\tT Average Score: 23.86\t Mean Score: 33.456\n",
      "Episode 233\tT Average Score: 23.93\t Mean Score: 34.182\n",
      "Episode 234\tT Average Score: 24.01\t Mean Score: 33.922\n",
      "Episode 235\tT Average Score: 24.10\t Mean Score: 32.273\n",
      "Episode 236\tT Average Score: 24.17\t Mean Score: 31.906\n",
      "Episode 237\tT Average Score: 24.21\t Mean Score: 31.718\n",
      "Episode 238\tT Average Score: 24.22\t Mean Score: 27.713\n",
      "Episode 239\tT Average Score: 24.29\t Mean Score: 31.842\n",
      "Episode 240\tT Average Score: 24.36\t Mean Score: 31.174\n",
      "Episode 241\tT Average Score: 24.46\t Mean Score: 29.100\n",
      "Episode 242\tT Average Score: 24.58\t Mean Score: 30.143\n",
      "Episode 243\tT Average Score: 24.70\t Mean Score: 31.619\n",
      "Episode 244\tT Average Score: 24.86\t Mean Score: 32.507\n",
      "Episode 245\tT Average Score: 24.98\t Mean Score: 33.219\n",
      "Episode 246\tT Average Score: 25.09\t Mean Score: 33.459\n",
      "Episode 247\tT Average Score: 25.25\t Mean Score: 32.554\n",
      "Episode 248\tT Average Score: 25.39\t Mean Score: 29.709\n",
      "Episode 249\tT Average Score: 25.52\t Mean Score: 31.796\n",
      "Episode 250\tT Average Score: 25.62\t Mean Score: 30.687\n",
      "Episode 251\tT Average Score: 25.72\t Mean Score: 32.200\n",
      "Episode 252\tT Average Score: 25.85\t Mean Score: 34.373\n",
      "Episode 253\tT Average Score: 25.97\t Mean Score: 33.616\n",
      "Episode 254\tT Average Score: 26.05\t Mean Score: 32.174\n",
      "Episode 255\tT Average Score: 26.14\t Mean Score: 30.975\n",
      "Episode 256\tT Average Score: 26.21\t Mean Score: 27.343\n",
      "Episode 257\tT Average Score: 26.30\t Mean Score: 27.680\n",
      "Episode 258\tT Average Score: 26.39\t Mean Score: 29.112\n",
      "Episode 259\tT Average Score: 26.48\t Mean Score: 27.314\n",
      "Episode 260\tT Average Score: 26.56\t Mean Score: 29.082\n",
      "Episode 261\tT Average Score: 26.67\t Mean Score: 29.969\n",
      "Episode 262\tT Average Score: 26.75\t Mean Score: 29.364\n",
      "Episode 263\tT Average Score: 26.83\t Mean Score: 30.151\n",
      "Episode 264\tT Average Score: 26.92\t Mean Score: 31.466\n",
      "Episode 265\tT Average Score: 27.00\t Mean Score: 29.614\n",
      "Episode 266\tT Average Score: 27.09\t Mean Score: 29.675\n",
      "Episode 267\tT Average Score: 27.18\t Mean Score: 28.912\n",
      "Episode 268\tT Average Score: 27.27\t Mean Score: 28.704\n",
      "Episode 269\tT Average Score: 27.37\t Mean Score: 26.703\n",
      "Episode 270\tT Average Score: 27.44\t Mean Score: 26.122\n",
      "Episode 271\tT Average Score: 27.52\t Mean Score: 25.904\n",
      "Episode 272\tT Average Score: 27.59\t Mean Score: 24.663\n",
      "Episode 273\tT Average Score: 27.70\t Mean Score: 27.296\n",
      "Episode 274\tT Average Score: 27.81\t Mean Score: 30.097\n",
      "Episode 275\tT Average Score: 27.89\t Mean Score: 28.229\n",
      "Episode 276\tT Average Score: 28.00\t Mean Score: 28.321\n",
      "Episode 277\tT Average Score: 28.09\t Mean Score: 28.804\n",
      "Episode 278\tT Average Score: 28.17\t Mean Score: 28.867\n",
      "Episode 279\tT Average Score: 28.19\t Mean Score: 24.214\n",
      "Episode 280\tT Average Score: 28.25\t Mean Score: 28.012\n",
      "Episode 281\tT Average Score: 28.35\t Mean Score: 29.223\n",
      "Episode 282\tT Average Score: 28.44\t Mean Score: 31.338\n",
      "Episode 283\tT Average Score: 28.49\t Mean Score: 29.536\n",
      "Episode 284\tT Average Score: 28.52\t Mean Score: 28.439\n",
      "Episode 285\tT Average Score: 28.58\t Mean Score: 27.327\n",
      "Episode 286\tT Average Score: 28.55\t Mean Score: 26.006\n",
      "Episode 287\tT Average Score: 28.59\t Mean Score: 30.147\n",
      "Episode 288\tT Average Score: 28.62\t Mean Score: 28.077\n",
      "Episode 289\tT Average Score: 28.65\t Mean Score: 29.228\n",
      "Episode 290\tT Average Score: 28.65\t Mean Score: 28.843\n",
      "Episode 291\tT Average Score: 28.70\t Mean Score: 32.045\n",
      "Episode 292\tT Average Score: 28.75\t Mean Score: 33.965\n",
      "Episode 293\tT Average Score: 28.83\t Mean Score: 31.553\n",
      "Episode 294\tT Average Score: 28.93\t Mean Score: 33.401\n",
      "Episode 295\tT Average Score: 29.04\t Mean Score: 33.939\n",
      "Episode 296\tT Average Score: 29.14\t Mean Score: 34.502\n",
      "Episode 297\tT Average Score: 29.23\t Mean Score: 33.668\n",
      "Episode 298\tT Average Score: 29.31\t Mean Score: 33.571\n",
      "Episode 299\tT Average Score: 29.41\t Mean Score: 35.185\n",
      "Episode 300\tT Average Score: 29.52\t Mean Score: 35.322\n"
     ]
    }
   ],
   "source": [
    "def ddpg(n_episodes=300, print_every=1): \n",
    "    \n",
    "    all_scores = []                    # list containing all scores from each episode\n",
    "    avg_scores_deque = []            # list containing avg all scores from each episode\n",
    "    noise_damp = 0                     # damping OU-Noise the closer it gets to global max\n",
    "    max_score = 0                      # save best score in that run\n",
    "    scores_deque = deque(maxlen=100)  # last 100 scores\n",
    "    #eps = eps_start                   # initialize epsilon\n",
    "    #env_unsolved = True\n",
    "    \n",
    "    for i_episode in range(1, n_episodes+1):\n",
    "        \n",
    "        env_info = env.reset(train_mode=True)[brain_name] # reset the environment\n",
    "        state = env_info.vector_observations              # get the current state\n",
    "        agent.reset()\n",
    "        score = np.zeros(num_agents)                      # initialize the score\n",
    "        while True:\n",
    "            action = agent.act(state, noise_damp)         # select an action\n",
    "            env_info = env.step(action)[brain_name]       # send the action to the environment\n",
    "            next_state = env_info.vector_observations     # get the next state\n",
    "            reward = env_info.rewards                     # get the reward\n",
    "            done = env_info.local_done                    # see if episode has finished\n",
    "            agent.step(state, action, reward, next_state, done, updates = 1)\n",
    "            state = next_state                            # roll over the state to next time step\n",
    "            score += reward                               # update the score\n",
    "            \n",
    "            if np.any(done):                              # exit loop if episode finished\n",
    "                break\n",
    "    \n",
    "        #print(\"\\rScore: {}\".format(score))\n",
    "        \n",
    "        avg_scores = np.mean(score)                           # agents' mean score\n",
    "        scores_deque.append(avg_scores)                           # save most 100 avg_scores recent score\n",
    "        all_scores.append(avg_scores)                         # save most recent score\n",
    "        avg_scores_deque.append(np.mean(scores_deque))\n",
    "        noise_damp = np.mean(scores_deque)\n",
    "        \n",
    "        #eps = max(eps_end, eps_decay*eps) # decrease epsilon\n",
    "        print('\\rEpisode {}\\tAverage Score: {:.2f}'.format(i_episode, np.mean(scores_deque)), end=\"\")\n",
    "        \n",
    "        # save agent if 10 perfomance is better, that max_score\n",
    "        if max_score < np.mean(scores_deque):\n",
    "            torch.save(agent.actor_local.state_dict(), 'checkpoint_actor.pth')\n",
    "            torch.save(agent.critic_local.state_dict(), 'checkpoint_critic.pth')\n",
    "            max_score = np.mean(scores_deque)\n",
    "        \n",
    "        if i_episode % print_every == 0:\n",
    "            print('\\rEpisode {}\\tT Average Score: {:.2f}\\t Mean Score: {:.3f}'.format(i_episode, np.mean(scores_deque), avg_scores))\n",
    "            \n",
    "        #break\n",
    "    return all_scores, avg_scores_deque\n",
    "\n",
    "all_scores, avg_scores_deque = ddpg()\n",
    "\n"
   ]
  },
  {
   "cell_type": "code",
   "execution_count": 9,
   "metadata": {},
   "outputs": [
    {
     "data": {
      "image/png": "[encoded data removed]",
      "text/plain": [
       "<matplotlib.figure.Figure at 0x7f9d0912d748>"
      ]
     },
     "metadata": {
      "needs_background": "light"
     },
     "output_type": "display_data"
    }
   ],
   "source": [
    "fig = plt.figure()\n",
    "ax = fig.add_subplot(111)\n",
    "plt.plot(np.arange(1, len(all_scores)+1), all_scores)\n",
    "plt.plot(np.arange(1, len(avg_scores_deque)+1), avg_scores_deque)\n",
    "plt.ylabel('Score')\n",
    "plt.xlabel('Episode #')\n",
    "plt.show()\n"
   ]
  }
 ],
 "metadata": {
  "kernelspec": {
   "display_name": "Python 3",
   "language": "python",
   "name": "python3"
  },
  "language_info": {
   "codemirror_mode": {
    "name": "ipython",
    "version": 3
   },
   "file_extension": ".py",
   "mimetype": "text/x-python",
   "name": "python",
   "nbconvert_exporter": "python",
   "pygments_lexer": "ipython3",
   "version": "3.6.3"
  }
 },
 "nbformat": 4,
 "nbformat_minor": 2
}
